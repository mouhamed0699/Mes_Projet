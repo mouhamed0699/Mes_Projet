{
 "cells": [
  {
   "cell_type": "code",
   "execution_count": 1,
   "id": "f2e552e1",
   "metadata": {},
   "outputs": [],
   "source": [
    "from bs4 import BeautifulSoup\n",
    "import requests"
   ]
  },
  {
   "cell_type": "code",
   "execution_count": 2,
   "id": "0183ac3c",
   "metadata": {},
   "outputs": [],
   "source": [
    "url=\"http://feeds.bbci.co.uk/news/rss.xml\""
   ]
  },
  {
   "cell_type": "code",
   "execution_count": 3,
   "id": "72fd38b2",
   "metadata": {},
   "outputs": [],
   "source": [
    "reponse=requests.get(url)\n",
    "\n",
    "ensemble=BeautifulSoup(reponse.text,\"html.parser\")"
   ]
  },
  {
   "cell_type": "code",
   "execution_count": 4,
   "id": "f6462984",
   "metadata": {},
   "outputs": [
    {
     "data": {
      "text/plain": [
       "<!DOCTYPE html>\n",
       "\n",
       "<html lang=\"en-US\">\n",
       "<head>\n",
       "<title>Just a moment...</title>\n",
       "<meta content=\"text/html; charset=utf-8\" http-equiv=\"Content-Type\"/>\n",
       "<meta content=\"IE=Edge\" http-equiv=\"X-UA-Compatible\"/>\n",
       "<meta content=\"noindex,nofollow\" name=\"robots\"/>\n",
       "<meta content=\"width=device-width,initial-scale=1\" name=\"viewport\"/>\n",
       "<link href=\"/cdn-cgi/styles/challenges.css\" rel=\"stylesheet\"/>\n",
       "</head>\n",
       "<body class=\"no-js\">\n",
       "<div class=\"main-wrapper\" role=\"main\">\n",
       "<div class=\"main-content\">\n",
       "<noscript>\n",
       "<div id=\"challenge-error-title\">\n",
       "<div class=\"h2\">\n",
       "<span class=\"icon-wrapper\">\n",
       "<div class=\"heading-icon warning-icon\"></div>\n",
       "</span>\n",
       "<span id=\"challenge-error-text\">\n",
       "                        Enable JavaScript and cookies to continue\n",
       "                    </span>\n",
       "</div>\n",
       "</div>\n",
       "</noscript>\n",
       "<div id=\"trk_jschal_js\" style=\"display:none;background-image:url('/cdn-cgi/images/trace/managed/nojs/transparent.gif?ray=7dbde08ffde5f5ce')\"></div>\n",
       "<form action=\"/location-voiture/results/CDG/2023-06-30/16:15/CDG/2023-07-07/16:15?sid=CFR12_649599871bb0c&amp;source=c2VhcmNoLWZvcm18&amp;__cf_chl_f_tk=LAmuaG5QEFXneU0dvKHAF8RysWn7dbNK9kfKLdJVAnQ-1687535326-0-gaNycGzNC1A\" enctype=\"application/x-www-form-urlencoded\" id=\"challenge-form\" method=\"POST\">\n",
       "<input name=\"md\" type=\"hidden\" value=\"GI15KCoUUhJjge5VXMqsGpAhYQ6VWU5aYVT0PjteZu0-1687535326-0-Ab50DadaDWJKrViCpcalYM63vXrALbWz7TqYJth2oCjp9TTNTmgUeIa2nCWBatF3zYi9nMrvK5x4v337E9AgaZKqyRGIggiCs6wgXjrqA13gLvG-L7wkaZgGfVrYPJ6dce0gj6ronRquLvKPVjkhFAUNS68Eq-dAlDqYiKf0tdpU_qr67HbVqfFXgg0Rw-oFpL7vm517fLfAKS5Gk_PHw4xk46M3ICdBP2pg_3kSoY9sIPi2gbthV4OhuBEKL0KTEkuzbiWpvhBSSS9Zzt8lRTycwpFEnB3qbfuVh2gHT7q_XeSu0qrSTubxNSiD2WxtrmMFKkyEoqtH8KFu6DOyYsdgA-1ePddNmORmyvD400K9k5FMLE_D-I9TIEq1pmtfyRfundacuBzqRsVtQruGgL3HnlqxZM1zJ1Y-bl7ZTVcaPiyBFjjQSiKOS2NYyLDKAXdWMIH9xo5HaUI_Yfc10oBW0PoJH9PDdWIDMaYlRj8HUSbshoU4VL2Nhjvo2NSetM6KlDBE7sPPScc8T4fp-dbled1yWjDO4YStfX_IzlHXPrG0X_42GFjUCnB1EH6V1s3L3970Vi0nvR1-gtd-WD50t5gjnWOW24Y7Q3afPsrqTzLCUCC2_WpMjjDTDisaL5KmmvYGm4b6LMUNy6mJE11u35TEBahoo6Zo9uE0nRyxzaOWqhE3Q3guWdlCOpfD4uPs8j63ijSbLSplVIC_H0QaOvgdAegIYtNK9qHVazdYjgGwOcOPUiie3VbXVORIJ3--qOC_C88m3ubqSboJPUJlHsYHBILoEleoMtRol75Bzkv0ZIylsoU2ehcH39XljnCpc_9las0E2guapOb4TWwM7CVwlkzxoCQYjkTb_1kdDGrDGHlX3Rl1pLIrgVLlRG9IHIKDQJ5D2M70Xa967QyFxxOQ46nQWa3d6dIq3NJKB2d00WjfGYtW4EZTIdcIJJZ2Z1nEZal97EajHvIs2RzOFY49tfikuF53FINRlXEa0eLmvy7lxI_lBBsFHGZF625-a_DQvPKl0-1uPO1UfXs2dw0E3rXJBmTd4jca2pvVhGa3Bms-s-UDm5MfqUO9nXCKnn--jyj1Ccg-ajtEETJHIfxxRAWQmwro6DfbviRcJ9Rn4jjWSOjUb3utILH4INuljLtG8Y-urQRRmmfh0zOgSBijh3XVYQFAVrsysbk9D1JBWDLMNWThQ6xBRGW4489IwDReYjv69G_VRKaAX6Hvx0K-mLlfLixSpY_5oJ-wrQfaiWmcKyxf40GQusmwZiok--Lac8eSl8rqKFxc4xo_2xnPef0Wv4g7BlqivENCtQYmMgROqUrkErd3mg8FUjOY4kmh4dOzaZeFGu4JofhtxHriSmquJ63NnZKtQLxf0AOYkx0z5Ee5-nJ7JCxBqrvzG_UyHLyqlzCiUds58KwU0am8W3FOrRMGzkCViVSxmO7Zl6J_FAtebCeo_Tt_2W9eceeYsTcnhPjKqVmsvrZZtnZSIxaMR_AoZdGXbB74A4Ieh993y2uT2WmJHOuRr6yxfTAY_WV6_boQw-tMaWeGToHQLBO__xFGmAcglBCv84fGzg2iSSU-q_WHUnbtlDVRYVvaEf6_KgmJKA6Df5OSTnT_QZ0Ve4eKfYZ2sEvIFF_OP8UPZS7c5ul32_VGFv0XNQFSgIZbU6irwUTcHpQN6sQGDPjamZSP4gxM5zGWoUXxi5x9dAUgjxhuP2Cmr4Hbg_wh7Z_tf8DnSiXHcyxgp0jQxmXWJ-r8_SmHb4fDaGQLQzccU1Mr_ve_Eo-6cPiXpK7etHmVAS8U-wlUbTCt3dvYP7XzYef2STkrwiwCVILi_7vpa0DFrRllO5GUeKP8eXLpR4XuFmQvxLVoRu2_QHFT5zUWtlg8HLhGx3FjIfnhUJ7cJI9P-WpQ6tafSObJ3LlSA8U40z2jAMWh13GubiwieG9Ho1YGZk6KsETqGnx7x4Ign0-M9dGl2b-UzNcJqH_3rlyN6bsPjmF6UXtBpxHF7H55IQtEZwmu27dVCaFSUTbwB7MEWgTbk7T3Khg7U9qcA4CuTS_nt8ttaMOR1d32_w4f62Fs0nZ4vTpb0u-pTY_md3-eu3Gn5E4ssuDt4pim7nVYDyHsraPBUirOkdmfMs2ctmoRKzjrLmi7A7MAq0tljjVgAEJfLRwVTMTimdKbAk98fAM69bh2QWdEyiljoUcap1pjuceBMgIsiEU-PfMLTyYVgpNhVA-S6hqR9oESoIiFSRFfqP_pwPRpYuH0e78MmpvuHdnapejvoK95tKlvXDqv14j_7BoPO2qxIaDwnI9YoA3gZXMbimLQUqgNuun_YFiuijulbNciWGeyDKfKYbdeDRSZRohN0lFn4aiytzxC-crF8-GveFnXfw6-ZN-ptM79r29frHG_KBeLl3YIRexHZRB2vtbWBGSq5xyfEoyoaV9hkI9VriFjV08OP7aWNuaRDPKpxKeGGZolbOojNHXtBWKh-RifUsnC9ocTgSuKskpYDQhGKVynXQTLuw_7CGz9W9cMDFxYTz1VycFrbH4PdS5JWv913QJSHqMP-1hLh3hCju8WBxrF9rs7dVtXoKJA68A6XSadjC68lutHbN22Rqw1A71LtKJWvRT5HBGbyUdhUEmYEiQIO-GzUh8YuyGD7uPd1AZMAC-apdyObde6fltdpSNZOXZotpbhS9-8kioXuiYfRTwAXYzjIkkzVFRlPWmMwmW0Fz7czO2eA_LA9wkI72kK0hmxY9k0yhH3IpyqaH1UwH2tNXTDbtNqNgT0smivVuuUS1q7RHllTAg0Hd3dGjEvloMapNO6Z29JSCxhdWeuxAI\"/>\n",
       "</form>\n",
       "</div>\n",
       "</div>\n",
       "<script>\n",
       "    (function(){\n",
       "        window._cf_chl_opt={\n",
       "            cvId: '2',\n",
       "            cZone: 'www.jetcost.com',\n",
       "            cType: 'managed',\n",
       "            cNounce: '40037',\n",
       "            cRay: '7dbde08ffde5f5ce',\n",
       "            cHash: '47d72be78b351de',\n",
       "            cUPMDTk: \"\\/location-voiture\\/results\\/CDG\\/2023-06-30\\/16:15\\/CDG\\/2023-07-07\\/16:15?sid=CFR12_649599871bb0c&source=c2VhcmNoLWZvcm18&__cf_chl_tk=LAmuaG5QEFXneU0dvKHAF8RysWn7dbNK9kfKLdJVAnQ-1687535326-0-gaNycGzNC1A\",\n",
       "            cFPWv: 'g',\n",
       "            cTTimeMs: '1000',\n",
       "            cMTimeMs: '0',\n",
       "            cTplV: 5,\n",
       "            cTplB: 'cf',\n",
       "            cK: \"\",\n",
       "            cRq: {\n",
       "                ru: 'aHR0cHM6Ly93d3cuamV0Y29zdC5jb20vbG9jYXRpb24tdm9pdHVyZS9yZXN1bHRzL0NERy8yMDIzLTA2LTMwLzE2OjE1L0NERy8yMDIzLTA3LTA3LzE2OjE1P3NpZD1DRlIxMl82NDk1OTk4NzFiYjBjJnNvdXJjZT1jMlZoY21Ob0xXWnZjbTE4',\n",
       "                ra: 'cHl0aG9uLXJlcXVlc3RzLzIuMjguMQ==',\n",
       "                rm: 'R0VU',\n",
       "                d: 'j65sbzfz022whQ7WGTAM4h7TRgNmMDl4mMFWYa6cOiWJz1YFVe73KaS17czTCajxrcdiz/iAWY/zgmDO+/zow1g0fI5H3JYSjCU10WdWTUqigqmkJbm0u4/B+Mw30X3ZBa7S540H4URlxnQLSQdIxbPHCJIOb9ZSw4geWDNmtzl0D6i37FQQPy59DqfFQZHVId2MFyi1TXFsTJGY6JLX3GXSfRSzADN7ASln8lFH0FcrcJWx3U9T/Tv65vAF+enascCamqgOIPsT53ZBZUzkMT+ej3PbwZufVMSNy8BxlJisyMOn+LWcs5XOTvkHEmXpzCh3HntUvEkRbcI0BtCIW8LwUNjfVUhiPNcHJJ40JsOpkMc3APRtSlkEgUxkbUSmaJAUbpp2Pp97w9SJ37BgZ3LC22+emeVC/x9bMQtkO0in6Tihb0Qs++koUL/ec7/EoOXcU1Kr4x6lLerymGWYHe4c2+RPMxKsu4gQz3jXp8k8j9LkuFNCHWysA+E6uFwxznQy3VKNM4d675bzuuiL0BV31btYelq+FCQVGC4OTQjHPFQch3MBcOu1Twwskr25v2tFllbqBO1em5Ne5XV73A==',\n",
       "                t: 'MTY4NzUzNTMyNi43MjIwMDA=',\n",
       "                cT: Math.floor(Date.now() / 1000),\n",
       "                m: '529e5niQe4b2dLojhxBwaM4DAupv3SCvLq2LCRxgzGs=',\n",
       "                i1: 'Ct1wH+ChE8lp5qkB81PutQ==',\n",
       "                i2: 'g53ezEIeBRUXIvsF61IHww==',\n",
       "                zh: 'wjyIAlEAh7Sj6PHcnTZ7a4xIQiVknIypkQgJC+UMNeg=',\n",
       "                uh: 'SLdVolODg++SO356HusO5I/hbfOpiiOxQXj62i/MUkA=',\n",
       "                hh: 'sy3Da/XxFeLyK2pf+moCDoUEG0GnOoptM5sWItRtHPs=',\n",
       "            }\n",
       "        };\n",
       "        var trkjs = document.createElement('img');\n",
       "        trkjs.setAttribute('src', '/cdn-cgi/images/trace/managed/js/transparent.gif?ray=7dbde08ffde5f5ce');\n",
       "        trkjs.setAttribute('alt', '');\n",
       "        trkjs.setAttribute('style', 'display: none');\n",
       "        document.body.appendChild(trkjs);\n",
       "        var cpo = document.createElement('script');\n",
       "        cpo.src = '/cdn-cgi/challenge-platform/h/g/orchestrate/managed/v1?ray=7dbde08ffde5f5ce';\n",
       "        window._cf_chl_opt.cOgUHash = location.hash === '' && location.href.indexOf('#') !== -1 ? '#' : location.hash;\n",
       "        window._cf_chl_opt.cOgUQuery = location.search === '' && location.href.slice(0, location.href.length - window._cf_chl_opt.cOgUHash.length).indexOf('?') !== -1 ? '?' : location.search;\n",
       "        if (window.history && window.history.replaceState) {\n",
       "            var ogU = location.pathname + window._cf_chl_opt.cOgUQuery + window._cf_chl_opt.cOgUHash;\n",
       "            history.replaceState(null, null, \"\\/location-voiture\\/results\\/CDG\\/2023-06-30\\/16:15\\/CDG\\/2023-07-07\\/16:15?sid=CFR12_649599871bb0c&source=c2VhcmNoLWZvcm18&__cf_chl_rt_tk=LAmuaG5QEFXneU0dvKHAF8RysWn7dbNK9kfKLdJVAnQ-1687535326-0-gaNycGzNC1A\" + window._cf_chl_opt.cOgUHash);\n",
       "            cpo.onload = function() {\n",
       "                history.replaceState(null, null, ogU);\n",
       "            };\n",
       "        }\n",
       "        document.getElementsByTagName('head')[0].appendChild(cpo);\n",
       "    }());\n",
       "</script>\n",
       "</body>\n",
       "</html>"
      ]
     },
     "execution_count": 4,
     "metadata": {},
     "output_type": "execute_result"
    }
   ],
   "source": [
    "ensemble"
   ]
  },
  {
   "cell_type": "code",
   "execution_count": null,
   "id": "85112477",
   "metadata": {},
   "outputs": [],
   "source": []
  }
 ],
 "metadata": {
  "kernelspec": {
   "display_name": "Python 3 (ipykernel)",
   "language": "python",
   "name": "python3"
  },
  "language_info": {
   "codemirror_mode": {
    "name": "ipython",
    "version": 3
   },
   "file_extension": ".py",
   "mimetype": "text/x-python",
   "name": "python",
   "nbconvert_exporter": "python",
   "pygments_lexer": "ipython3",
   "version": "3.9.13"
  }
 },
 "nbformat": 4,
 "nbformat_minor": 5
}
