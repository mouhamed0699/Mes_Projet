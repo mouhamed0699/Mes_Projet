{
 "cells": [
  {
   "cell_type": "code",
   "execution_count": 5,
   "id": "2799b22e",
   "metadata": {},
   "outputs": [],
   "source": [
    "from bs4 import BeautifulSoup\n",
    "import requests"
   ]
  },
  {
   "cell_type": "code",
   "execution_count": 9,
   "id": "0c6d6f0d",
   "metadata": {},
   "outputs": [],
   "source": [
    "url=\"https://www.jetcost.com/location-voiture/results/CDG/2023-06-30/16:15/CDG/2023-07-07/16:15?sid=CFR12_649599871bb0c&source=c2VhcmNoLWZvcm18\""
   ]
  },
  {
   "cell_type": "code",
   "execution_count": 10,
   "id": "33d46de8",
   "metadata": {},
   "outputs": [],
   "source": [
    "reponse=requests.get(url)\n",
    "\n",
    "ensemble=BeautifulSoup(reponse.text,\"html.parser\")"
   ]
  },
  {
   "cell_type": "code",
   "execution_count": 11,
   "id": "193f119c",
   "metadata": {},
   "outputs": [
    {
     "data": {
      "text/plain": [
       "<!DOCTYPE html>\n",
       "\n",
       "<html lang=\"en-US\">\n",
       "<head>\n",
       "<title>Just a moment...</title>\n",
       "<meta content=\"text/html; charset=utf-8\" http-equiv=\"Content-Type\"/>\n",
       "<meta content=\"IE=Edge\" http-equiv=\"X-UA-Compatible\"/>\n",
       "<meta content=\"noindex,nofollow\" name=\"robots\"/>\n",
       "<meta content=\"width=device-width,initial-scale=1\" name=\"viewport\"/>\n",
       "<link href=\"/cdn-cgi/styles/challenges.css\" rel=\"stylesheet\"/>\n",
       "</head>\n",
       "<body class=\"no-js\">\n",
       "<div class=\"main-wrapper\" role=\"main\">\n",
       "<div class=\"main-content\">\n",
       "<noscript>\n",
       "<div id=\"challenge-error-title\">\n",
       "<div class=\"h2\">\n",
       "<span class=\"icon-wrapper\">\n",
       "<div class=\"heading-icon warning-icon\"></div>\n",
       "</span>\n",
       "<span id=\"challenge-error-text\">\n",
       "                        Enable JavaScript and cookies to continue\n",
       "                    </span>\n",
       "</div>\n",
       "</div>\n",
       "</noscript>\n",
       "<div id=\"trk_jschal_js\" style=\"display:none;background-image:url('/cdn-cgi/images/trace/managed/nojs/transparent.gif?ray=7dbdf19fe87af5c6')\"></div>\n",
       "<form action=\"/location-voiture/results/CDG/2023-06-30/16:15/CDG/2023-07-07/16:15?sid=CFR12_649599871bb0c&amp;source=c2VhcmNoLWZvcm18&amp;__cf_chl_f_tk=aSOvcnb85KTG6W9OZcfxs5SMXmf1FqUDrTmvisoDvZU-1687536025-0-gaNycGzNCzs\" enctype=\"application/x-www-form-urlencoded\" id=\"challenge-form\" method=\"POST\">\n",
       "<input name=\"md\" type=\"hidden\" value=\"7Z4xyx3c0wEsJTpDO34cvNfTu2B1ViyY0.kevh1aoFU-1687536025-0-AeUuAeCCyUqbtjFcvgRp94l87ekA1-i5Z_reSujE7_1O1VrUPnpuqJvdPtil5-oqqs5Yx6LSqFU3qXPlFKjxAWNTiEhuhJ0vX7lCFMp3WtxhzWTjlBHOzHL3BYjLBxFp3OKm0VmXcLWQo1LGKLF2DDXThxra8T6yjUEVDqpA8nDvkUK7wctraF7zipVxa7ftKm9EiPxE48UX4rZ84XDOgA8JvXHA5-C8rKgUqkiaJeLzD8YYIvuRqRXvuDXT9FnZqzbgXU9KiKQ35H-YeDrad8CjQFyPRX0AmbedV44Ej0NQk2OS8J2zcD-JqT0PYf_3cnJRZuEs9NX72uqCHdYRLf-GZ7fB_Cxl64XSKU7scGkyP1bGaO57eom6cdOT7KrHDXTbHqPWbO0Y_yl0S3uLK7YKTaDZfxe-0uNLZXzcWEAzVEbkHc0_CSSj8cdQRJPPStx6yaSjTr8ogxrdrmB3PUYnlYg7OmpCLpn7BM7VPGRKYgX8eMQNmW_UwV0NfAwC1wZCEt79rYuFWh0ZmyQIhd-8NPPO16bw_xFFcKzwuqLP5fkmKPPKnDy1iXFd_ab3Yrh5dFmLtJ-gPNZw7q9XUBF8kF3wz_HH5dnCCZCkMnczslqno2070wDgodXnj62Wc5V29wDfNtFsQEHt0oBvLstOlTjz5pOAFEoV8Ew7XtM1q-iJAq-XOy9JQFYj_e8iiS9fywxf0HkzTfME9ucKuLJGeO0dbkOk8Xo04oUB_wlsc-cEyTle2XG5a-66aPr_5nzU-XWIF6sjmYBrqycHrp1_ulvG7KSW6LEyxgs5ZIyQwYiQiCUMOZf0tW17V1r4M5LQNXHUnL11PgWwEZeZQ-6wgvQC_p9-jejjXjF_TDgzJdMPF-s0WMOXCvN7jVZug6_p2VQ17v2YJC8pGzMEcDCY__VhffuxjDkN8scoy26oDfE5BSN5mO8zmyJFF1EAimDY1iizNQEQ1IKuNVD0fxjooxkHR-Xw25ozb21xMl3V895g0JoKKiDtdisofQw1kB5YzHnDyb-yfFzG7GGt8QQUqg1-xzgjxmtgvLSXHlqdOsBO4iFdSOxQlEJAp4v8M5Uy6a7hMJ4Jhv25mmySWO6HR_8vEpFfXPBUD7-RyaP63IgPHj-RrtmPnGSFYNA4nanaPVR9llxzk0tzA322D90Pcjsc8ukWNF4xyUak9dKi85AIt7UbHuL-57fXHw5RtrqWCNb6t22a_EqlnBdbflnHYrzuWB7ys-k2rH2rP5B59uRsfN2JhppUfRxtW1QXIF1yYCs6y79E8wdc3P7B7HBsrCk9ySo7un_TKZXDCUySxL-LsupNrOl3B_HPbXjrxhbWJvUHIGu2CoiOOVvithUXp9qhGj_5BXFVhgxttEl1MC8jatVHe7nq58-6mkIzHrJqBbb3_xswq-ZsPfInB_c-Grc2gTdc9g9IwjMknYjcRzEDpmf25jIq9OFjdBZEzOS8NG4qRTxW1Ik78Ep0gv9FGdIMxE4SgeKQpu8kTMT4RLLVUz0RyEpb8efo6O6NUweUWt3cIRcgJSTkQ-NyiSUB-YZF0d9Ec9kTeSp1bRTsYNpmd3xD91mA31N8-bTWrIROnyw4pMbdjk05uNOV_OLJbxEoGZFwg4McNwoxlf_pQYtDXwOCrCUJrzNEuTCzkeD_UfKiQ6-0B8uXJCXhM54RsGYSLsylog53mrm8N1HJRJ_mNLkhT5vHapwoqVMsXA1jpW6hEjC5g60xZlflpysYlexLOmaGKnxol5eakL7bIslyvC9hOOYpZhxMBOXuoq7uHMiS0TXZ9f8ZFdpnaQUp2OYNTVgJJDeKlkdoJeYgiEUaXMQWf_ElKr-PeqSu_n_aXsVFDZh42HsulD5JusTBYxIezGjF0IvynZeGQLYDNfBIq8ibfbWRbchEISfb_VmjeTmFb4hZboqTlcbBfGLGM2tiHYEsY6JtwNXKp1iROd6FmHhKzCQ2U8A9W13RaMkz50UdHXm6P3iv29ywWsJgHF-bxaztWy2kvy77y9ie2z1SCt3ehoXB0RRhz3NDKeE3EbxZiH6RAqPQAcszFP2rTDLsO-mP8iKMWin-xHLnUzh_BMEK06upoh7wzRV2Y4lccwhPoZiJrsXAPCZoXTblgkw2jsrgrKUdy-xLQta6eJaXqHRhqijejC42AjkXLorAFHArwK3OwrwYazz8DtY70F0MhnhMmISxEBBQN1LIGP75oQinKBHmt5xfWUUGCEHNaS7Zs8cdGYdN9y2-Oj8k_pTOB9IWCAw3dd8HuoILVKmvqAOPEHzxXFQquq05uCukZnav3QRfM6r9FGnJ7LRcO9FF4sp9oGBikc9cRXtYXgd1U2kNw5j-BmM7rmvkbfZ6Y32OuYTL4UWMfzyXLyJHl1x4XwlZWjTBnXHV5fYFvIrviL7MswFeoZK0cbnV-OSBOZ1gso-W6gHKApVeESlApA2H9xZG_nnqz8RSZLcLti7OPYctwIaMlwhZXhZDo4mP1D3Sy2QRjdM6zD6Hnda6vVEwktGOOXSMKqSSNINzMctQIWBSiixYDmKDGDNYoY5wi2HadWPNOCPeA4jIT7oN9YJRmnQO2pjqyBkvKuImC8jxK4bwqWm1Rm5N-y2h7U8NDoy7Fevh_GcLDVXOlNDcCIS6Egoyv0Eb9s6YN49d2mFHZD8CaaXfOP_P6CRXK9VoIhlJVJyY5Azd76iFgdSS4s4XCA2pGwDbBxHREIdPLzs0nKgkaeySqjWl9MvaLc8CdpY4iELHzMKMSvIf-8gDl3--wsI5gc1lun8Mxl3S8LaN7jo0dL5A_Vi7Rc82kg\"/>\n",
       "</form>\n",
       "</div>\n",
       "</div>\n",
       "<script>\n",
       "    (function(){\n",
       "        window._cf_chl_opt={\n",
       "            cvId: '2',\n",
       "            cZone: 'www.jetcost.com',\n",
       "            cType: 'managed',\n",
       "            cNounce: '21706',\n",
       "            cRay: '7dbdf19fe87af5c6',\n",
       "            cHash: '16df43a00284d7a',\n",
       "            cUPMDTk: \"\\/location-voiture\\/results\\/CDG\\/2023-06-30\\/16:15\\/CDG\\/2023-07-07\\/16:15?sid=CFR12_649599871bb0c&source=c2VhcmNoLWZvcm18&__cf_chl_tk=aSOvcnb85KTG6W9OZcfxs5SMXmf1FqUDrTmvisoDvZU-1687536025-0-gaNycGzNCzs\",\n",
       "            cFPWv: 'g',\n",
       "            cTTimeMs: '1000',\n",
       "            cMTimeMs: '0',\n",
       "            cTplV: 5,\n",
       "            cTplB: 'cf',\n",
       "            cK: \"\",\n",
       "            cRq: {\n",
       "                ru: 'aHR0cHM6Ly93d3cuamV0Y29zdC5jb20vbG9jYXRpb24tdm9pdHVyZS9yZXN1bHRzL0NERy8yMDIzLTA2LTMwLzE2OjE1L0NERy8yMDIzLTA3LTA3LzE2OjE1P3NpZD1DRlIxMl82NDk1OTk4NzFiYjBjJnNvdXJjZT1jMlZoY21Ob0xXWnZjbTE4',\n",
       "                ra: 'cHl0aG9uLXJlcXVlc3RzLzIuMjguMQ==',\n",
       "                rm: 'R0VU',\n",
       "                d: 'vS1TeJdvRW0sG021/lveLJ1RKhQ1ThQCMrDVSYse6f8A+CywTdNXsN2NnZMNa67hX4fFm4agrDHnSpkyrHAa7PdG0z4EXjG1LpsACbb7EIaL51yE9rQllx6/fK/Lf93ncEYF79m4kVy6Q/RMwf0gP6LmuQF/dqdXp5B+vTuOf+audSVFCI4w8n5vJ7wWwlyJSmH/g4tK/0WfZQs5tSsgliBAU+wFOGwuHG+Nktoz9G8Xb3/CbANqb2fSeDFfMle+chUhiTLQn+JNA548HEbT+vZYarCXqDz9AZhE+WnCzhZ4zD7Rn46zDcCN+Y2deA4PphnrO+a2kQe5ZV06X81HW6bhrD+1ZoMjVJGqM5qVB3XeahGD6nNqrmuMBws4cyUxhPaqaFKtfsuH94Tqvu5NRs4toxZhCHCcySu0wRSqHQLwiWoybFseNzEzTI/bJBgIEDqkWWai6S0IMptJAi2S9n6RdeQ+bUJ2+ht25o0dbqFr73CwieFy/dH3X0eQYSJzTuRW0IcX1FFNcArWMzu0NQcdj/Zp7+MU1GUYxmJQWwKZ/AKkOcDCX5kNFNBlSTbe6CTpXbQ4CkrAY9tw0ASIOA==',\n",
       "                t: 'MTY4NzUzNjAyNS41ODgwMDA=',\n",
       "                cT: Math.floor(Date.now() / 1000),\n",
       "                m: 'u/HIrdJQw8Amd+RIAtNEWs2pXtoObQcCakAdTf43QgM=',\n",
       "                i1: 'AW3npwaf88xvfE9mqYqrOg==',\n",
       "                i2: 'yi2vy33CJx4C7sjBCgWBYQ==',\n",
       "                zh: 'wjyIAlEAh7Sj6PHcnTZ7a4xIQiVknIypkQgJC+UMNeg=',\n",
       "                uh: 'SLdVolODg++SO356HusO5I/hbfOpiiOxQXj62i/MUkA=',\n",
       "                hh: 'sy3Da/XxFeLyK2pf+moCDoUEG0GnOoptM5sWItRtHPs=',\n",
       "            }\n",
       "        };\n",
       "        var trkjs = document.createElement('img');\n",
       "        trkjs.setAttribute('src', '/cdn-cgi/images/trace/managed/js/transparent.gif?ray=7dbdf19fe87af5c6');\n",
       "        trkjs.setAttribute('alt', '');\n",
       "        trkjs.setAttribute('style', 'display: none');\n",
       "        document.body.appendChild(trkjs);\n",
       "        var cpo = document.createElement('script');\n",
       "        cpo.src = '/cdn-cgi/challenge-platform/h/g/orchestrate/managed/v1?ray=7dbdf19fe87af5c6';\n",
       "        window._cf_chl_opt.cOgUHash = location.hash === '' && location.href.indexOf('#') !== -1 ? '#' : location.hash;\n",
       "        window._cf_chl_opt.cOgUQuery = location.search === '' && location.href.slice(0, location.href.length - window._cf_chl_opt.cOgUHash.length).indexOf('?') !== -1 ? '?' : location.search;\n",
       "        if (window.history && window.history.replaceState) {\n",
       "            var ogU = location.pathname + window._cf_chl_opt.cOgUQuery + window._cf_chl_opt.cOgUHash;\n",
       "            history.replaceState(null, null, \"\\/location-voiture\\/results\\/CDG\\/2023-06-30\\/16:15\\/CDG\\/2023-07-07\\/16:15?sid=CFR12_649599871bb0c&source=c2VhcmNoLWZvcm18&__cf_chl_rt_tk=aSOvcnb85KTG6W9OZcfxs5SMXmf1FqUDrTmvisoDvZU-1687536025-0-gaNycGzNCzs\" + window._cf_chl_opt.cOgUHash);\n",
       "            cpo.onload = function() {\n",
       "                history.replaceState(null, null, ogU);\n",
       "            };\n",
       "        }\n",
       "        document.getElementsByTagName('head')[0].appendChild(cpo);\n",
       "    }());\n",
       "</script>\n",
       "</body>\n",
       "</html>"
      ]
     },
     "execution_count": 11,
     "metadata": {},
     "output_type": "execute_result"
    }
   ],
   "source": [
    "ensemble"
   ]
  },
  {
   "cell_type": "code",
   "execution_count": null,
   "id": "2fae37f9",
   "metadata": {},
   "outputs": [],
   "source": []
  }
 ],
 "metadata": {
  "kernelspec": {
   "display_name": "Python 3 (ipykernel)",
   "language": "python",
   "name": "python3"
  },
  "language_info": {
   "codemirror_mode": {
    "name": "ipython",
    "version": 3
   },
   "file_extension": ".py",
   "mimetype": "text/x-python",
   "name": "python",
   "nbconvert_exporter": "python",
   "pygments_lexer": "ipython3",
   "version": "3.9.13"
  }
 },
 "nbformat": 4,
 "nbformat_minor": 5
}
